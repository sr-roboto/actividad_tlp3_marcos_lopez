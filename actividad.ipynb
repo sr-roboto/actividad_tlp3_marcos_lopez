{
 "cells": [
  {
   "cell_type": "markdown",
   "id": "498731c6",
   "metadata": {},
   "source": [
    "# Actividad - Trabajando con Series de Pandas.\n",
    "## Criterios de evaluación.\n",
    "\n",
    "* Se deben utilizar nombres de variables descriptivos y claros (Utilizar la nomeclatura correspondiente para los nombres de variables).\n",
    "* Comentarios claros y concisos que expliquen el propósito de cada sección del código.\n",
    "* Utilizar mensajes de commit **descriptivos**. (Puedes utilizar la extension CONVENTIONAL COMMIT de VS-CODE). \n",
    "* Entrega en tiempo y forma.\n",
    "* Todo el código desarrollado debe ser subido a un repositorio en GitHub (el nombre del repositorio de seguir la siguiente estructura: actividad_tlp3_nombre_apellido).\n",
    "* Para resolver las actividades se debe insertar casillas de codigo entre cada actividad del cuaderno de Jupyter\n",
    "\n",
    "### ¡Importante!\n",
    "**El incumplimiento de los criterios de evaluación restará puntos en la nota final del práctico!**"
   ]
  },
  {
   "cell_type": "code",
   "execution_count": 2,
   "id": "21872eec",
   "metadata": {},
   "outputs": [],
   "source": [
    "# Importación de pandas\n",
    "import pandas as pd\n",
    "\n",
    "# Importación de Series\n",
    "from pandas import Series"
   ]
  },
  {
   "cell_type": "markdown",
   "id": "b361a7b6",
   "metadata": {},
   "source": [
    "### **Actividad 1:** \n",
    "\n",
    "Crear Series desde diferentes estructuras.\n",
    "* Crea una Series con los números del 1 al 5\n",
    "* Crea una Series a partir de un diccionario con nombres de países como claves y sus capitales como valores."
   ]
  },
  {
   "cell_type": "code",
   "execution_count": 13,
   "id": "26009294",
   "metadata": {},
   "outputs": [
    {
     "data": {
      "text/plain": [
       "0    1\n",
       "1    2\n",
       "2    3\n",
       "3    4\n",
       "4    5\n",
       "dtype: int64"
      ]
     },
     "execution_count": 13,
     "metadata": {},
     "output_type": "execute_result"
    }
   ],
   "source": [
    "# Crear una series con los números del 1 al 5.\n",
    "\n",
    "valores = [1, 2, 3, 4, 5]\n",
    "\n",
    "# crear una serie\n",
    "primer_serie = Series(valores)\n",
    "\n",
    "primer_serie\n"
   ]
  },
  {
   "cell_type": "code",
   "execution_count": 11,
   "id": "c7c9bebe",
   "metadata": {},
   "outputs": [
    {
     "data": {
      "text/plain": [
       "Argentina             Buenos Aires\n",
       "Brasil                    Brasilia\n",
       "Chile                     Santiago\n",
       "Colombia                    Bogotá\n",
       "Perú                          Lima\n",
       "Venezuela                  Caracas\n",
       "Ecuador                      Quito\n",
       "Paraguay                  Asunción\n",
       "Uruguay                 Montevideo\n",
       "Bolivia                      Sucre\n",
       "Surinam                 Parabarimo\n",
       "Trinidad y Tobajo    Puerto España\n",
       "dtype: object"
      ]
     },
     "execution_count": 11,
     "metadata": {},
     "output_type": "execute_result"
    }
   ],
   "source": [
    "# Crea una Series a partir de un diccionario con nombres de países como claves y sus capitales como valores.\n",
    "\n",
    "# Crear un diccionario con países y sus capitales de América del Sur\n",
    "paises = {\n",
    "  'Argentina': 'Buenos Aires',\n",
    "  'Brasil': 'Brasilia',\n",
    "  'Chile': 'Santiago',\n",
    "  'Colombia': 'Bogotá',\n",
    "  'Perú': 'Lima',\n",
    "  'Venezuela': 'Caracas',\n",
    "  'Ecuador': 'Quito',\n",
    "  'Paraguay': 'Asunción',\n",
    "  'Uruguay': 'Montevideo',\n",
    "  'Bolivia': 'Sucre',\n",
    "  'Surinam': 'Parabarimo',\n",
    "  'Trinidad y Tobajo': 'Puerto España'\n",
    "}\n",
    "\n",
    "america_sur = Series(paises)\n",
    "america_sur"
   ]
  },
  {
   "cell_type": "markdown",
   "id": "0c239195",
   "metadata": {},
   "source": [
    "### **Actividad 2:** \n",
    "Acceso y selección de elementos.\n",
    "* Usa una Series con tareas (que haceres cotidianos) de una semana\n",
    "* Accede a diferentes elementos a elección.\n",
    "* Cambia los valores de los dias pares.\n"
   ]
  },
  {
   "cell_type": "code",
   "execution_count": 56,
   "id": "3611d25a",
   "metadata": {},
   "outputs": [
    {
     "data": {
      "text/plain": [
       "1              Lavar la ropa\n",
       "2            Hacer la compra\n",
       "3            Limpiar la casa\n",
       "4    Estudiar para el examen\n",
       "5            Hacer ejercicio\n",
       "6            Cocinar la cena\n",
       "7              Leer un libro\n",
       "dtype: object"
      ]
     },
     "execution_count": 56,
     "metadata": {},
     "output_type": "execute_result"
    }
   ],
   "source": [
    "# Usa una Series con tareas (que haceres cotidianos) de una semana.\n",
    "\n",
    "# Crear una lista de tareas\n",
    "tareas = [\n",
    "  'Lavar la ropa',\n",
    "  'Hacer la compra',\n",
    "  'Limpiar la casa',\n",
    "  'Estudiar para el examen',\n",
    "  'Hacer ejercicio',\n",
    "  'Cocinar la cena',\n",
    "  'Leer un libro'\n",
    "]\n",
    "\n",
    "dias = [\n",
    "  1, 2, 3, 4, 5, 6, 7\n",
    "]\n",
    "\n",
    "lista_tareas = Series(tareas, index=dias)\n",
    "lista_tareas"
   ]
  },
  {
   "cell_type": "code",
   "execution_count": 33,
   "id": "cc55cdf0",
   "metadata": {},
   "outputs": [
    {
     "data": {
      "text/plain": [
       "'Leer un libro'"
      ]
     },
     "execution_count": 33,
     "metadata": {},
     "output_type": "execute_result"
    }
   ],
   "source": [
    "# Accede a diferentes elementos a elección.\n",
    "\n",
    "# Acceder al primer elemento de la serie\n",
    "lista_tareas[0]\n",
    "\n",
    "# Acceder al último elemento de la serie\n",
    "lista_tareas[6]\n",
    "\n"
   ]
  },
  {
   "cell_type": "code",
   "execution_count": null,
   "id": "041fa990",
   "metadata": {},
   "outputs": [
    {
     "data": {
      "text/plain": [
       "1       Lavar la ropa\n",
       "2    Tarea modificada\n",
       "3     Limpiar la casa\n",
       "4    Tarea modificada\n",
       "5     Hacer ejercicio\n",
       "6    Tarea modificada\n",
       "7       Leer un libro\n",
       "dtype: object"
      ]
     },
     "execution_count": 59,
     "metadata": {},
     "output_type": "execute_result"
    }
   ],
   "source": [
    "# Cambia los valores de los dias pares.\n",
    "\n",
    "lista_tareas[1::2] = 'Tarea modificada'\n",
    "\n",
    "lista_tareas\n"
   ]
  },
  {
   "cell_type": "markdown",
   "id": "70a24b97",
   "metadata": {},
   "source": [
    "### **Actividad 3:**\n",
    "Operaciones aritméticas. \n",
    "* Realiza las operaciones basicas con 2 series cuales quieran.\n",
    "* Eleva los valores de la primer serie a 3 potencias difetentes."
   ]
  },
  {
   "cell_type": "code",
   "execution_count": 60,
   "id": "a9c8ebc7",
   "metadata": {},
   "outputs": [
    {
     "name": "stdout",
     "output_type": "stream",
     "text": [
      "Suma:\n",
      " 0    11\n",
      "1    22\n",
      "2    33\n",
      "3    44\n",
      "4    55\n",
      "dtype: int64\n",
      "Resta:\n",
      " 0    -9\n",
      "1   -18\n",
      "2   -27\n",
      "3   -36\n",
      "4   -45\n",
      "dtype: int64\n",
      "Multiplicación:\n",
      " 0     10\n",
      "1     40\n",
      "2     90\n",
      "3    160\n",
      "4    250\n",
      "dtype: int64\n",
      "División:\n",
      " 0    0.1\n",
      "1    0.1\n",
      "2    0.1\n",
      "3    0.1\n",
      "4    0.1\n",
      "dtype: float64\n"
     ]
    }
   ],
   "source": [
    "\n",
    "# Realiza las operaciones basicas con 2 series cuales quieran.\n",
    "\n",
    "# Crear dos series de números\n",
    "numeros1 = Series([1, 2, 3, 4, 5])\n",
    "numeros2 = Series([10, 20, 30, 40, 50])\n",
    "\n",
    "# Sumar las dos series\n",
    "suma = numeros1 + numeros2\n",
    "resta = numeros1 - numeros2\n",
    "multiplicacion = numeros1 * numeros2\n",
    "division = numeros1 / numeros2\n",
    "\n",
    "# Mostrar los resultados\n",
    "print(\"Suma:\\n\", suma)\n",
    "print(\"Resta:\\n\", resta)\n",
    "print(\"Multiplicación:\\n\", multiplicacion)\n",
    "print(\"División:\\n\", division)"
   ]
  },
  {
   "cell_type": "code",
   "execution_count": null,
   "id": "b7529a25",
   "metadata": {},
   "outputs": [
    {
     "data": {
      "text/plain": [
       "(16, 64, 256)"
      ]
     },
     "execution_count": 62,
     "metadata": {},
     "output_type": "execute_result"
    }
   ],
   "source": [
    "# Eleva los valores de la primer serie a 3 potencias difetentes.\n",
    "\n",
    "potencias = [2, 3, 4]\n",
    "numeros1 ** potencias[0], numeros1 ** potencias[1], numeros1 ** potencias[2]"
   ]
  },
  {
   "cell_type": "markdown",
   "id": "b8dac397",
   "metadata": {},
   "source": [
    "### **Actividad 4:** \n",
    "Filtrado con condiciones.\n",
    "* Crea una Series de edades de 10 personas.\n",
    "* Muestra solo a los mayores de 18.\n",
    "* Reemplaza a los menores por \"Menor de edad\"."
   ]
  },
  {
   "cell_type": "code",
   "execution_count": 76,
   "id": "d04fd492",
   "metadata": {},
   "outputs": [],
   "source": [
    "# Crea una Series de edades de 10 personas.\n",
    "\n",
    "edades = Series([15, 30, 12, 28, 35, 40, 18, 21, 17, 33])\n"
   ]
  },
  {
   "cell_type": "code",
   "execution_count": 77,
   "id": "918af470",
   "metadata": {},
   "outputs": [
    {
     "data": {
      "text/plain": [
       "1    30\n",
       "3    28\n",
       "4    35\n",
       "5    40\n",
       "7    21\n",
       "9    33\n",
       "dtype: int64"
      ]
     },
     "execution_count": 77,
     "metadata": {},
     "output_type": "execute_result"
    }
   ],
   "source": [
    "# Muestra solo a los mayores de 18.\n",
    "edades_mayores_18 = edades[edades > 18]\n",
    "edades_mayores_18\n"
   ]
  },
  {
   "cell_type": "code",
   "execution_count": null,
   "id": "c31ddd52",
   "metadata": {},
   "outputs": [
    {
     "name": "stderr",
     "output_type": "stream",
     "text": [
      "C:\\Users\\IPF-2024\\AppData\\Local\\Temp\\ipykernel_21828\\4230574280.py:4: FutureWarning: Setting an item of incompatible dtype is deprecated and will raise an error in a future version of pandas. Value 'Menor de edad' has dtype incompatible with int64, please explicitly cast to a compatible dtype first.\n",
      "  edades_reemplazadas[edades < 18] = \"Menor de edad\"\n"
     ]
    },
    {
     "data": {
      "text/plain": [
       "0    Menor de edad\n",
       "1               30\n",
       "2    Menor de edad\n",
       "3               28\n",
       "4               35\n",
       "5               40\n",
       "6               18\n",
       "7               21\n",
       "8    Menor de edad\n",
       "9               33\n",
       "dtype: object"
      ]
     },
     "execution_count": 78,
     "metadata": {},
     "output_type": "execute_result"
    }
   ],
   "source": [
    "# Reemplaza a los menores por \"Menor de edad\".\n",
    "\n",
    "edades_reemplazadas = edades[:] # Copia la serie original\n",
    "edades_reemplazadas[edades < 18] = \"Menor de edad\"\n",
    "edades_reemplazadas"
   ]
  },
  {
   "cell_type": "markdown",
   "id": "8889d0f2",
   "metadata": {},
   "source": [
    "### Actividad 5:\n",
    "Estadísticas básicas.\n",
    "\n",
    "* Crea una Series con las notas de 10 estudiantes.\n",
    "* Calcula la media, mediana, desviación estándar y máximo.\n",
    "* Muestra cuántos estudiantes aprobaron si el mínimo para aprobar es 6.\n",
    "* Ordenar las notas de manera ascendente y descendente. "
   ]
  },
  {
   "cell_type": "code",
   "execution_count": 79,
   "id": "bc0ec844",
   "metadata": {},
   "outputs": [],
   "source": [
    "# Crea una Series con las notas de 10 estudiantes.\n",
    "\n",
    "notas = Series([5.5, 6.7, 8.0, 4.5, 7.2, 9.0, 3.8, 6.5, 7.8, 8.5])\n",
    "\n"
   ]
  },
  {
   "cell_type": "code",
   "execution_count": 81,
   "id": "0f9b8709",
   "metadata": {},
   "outputs": [
    {
     "name": "stdout",
     "output_type": "stream",
     "text": [
      "Media: 6.75\n",
      "Mediana: 6.95\n",
      "Desviación estándar: 1.7122110461817102\n",
      "Máximo: 9.0\n"
     ]
    }
   ],
   "source": [
    "# Calcula la media, mediana, desviación estándar y máximo.\n",
    "\n",
    "media = notas.mean()\n",
    "mediana = notas.median()\n",
    "desviacion_estandar = notas.std()\n",
    "maximo = notas.max()\n",
    "\n",
    "# Muestra la media, mediana, desviación estándar y máximo.\n",
    "print(\"Media:\", media)\n",
    "print(\"Mediana:\", mediana)\n",
    "print(\"Desviación estándar:\", desviacion_estandar)\n",
    "print(\"Máximo:\", maximo)\n"
   ]
  },
  {
   "cell_type": "code",
   "execution_count": 82,
   "id": "063febb0",
   "metadata": {},
   "outputs": [
    {
     "name": "stdout",
     "output_type": "stream",
     "text": [
      "Número de estudiantes aprobados: 7\n"
     ]
    }
   ],
   "source": [
    "# Muestra cuántos estudiantes aprobaron si el mínimo para aprobar es 6.\n",
    "\n",
    "aprobados = notas[notas >= 6].count()\n",
    "\n",
    "print(\"Número de estudiantes aprobados:\", aprobados)"
   ]
  },
  {
   "cell_type": "code",
   "execution_count": 83,
   "id": "ecf5c79e",
   "metadata": {},
   "outputs": [
    {
     "data": {
      "text/plain": [
       "6    3.8\n",
       "3    4.5\n",
       "0    5.5\n",
       "7    6.5\n",
       "1    6.7\n",
       "4    7.2\n",
       "8    7.8\n",
       "2    8.0\n",
       "9    8.5\n",
       "5    9.0\n",
       "dtype: float64"
      ]
     },
     "execution_count": 83,
     "metadata": {},
     "output_type": "execute_result"
    }
   ],
   "source": [
    "# Ordenar las notas de manera ascendente. \n",
    "\n",
    "notas_ordenadas_ascendente = notas.sort_values(ascending=True)\n",
    "\n",
    "notas_ordenadas_ascendente"
   ]
  },
  {
   "cell_type": "code",
   "execution_count": 84,
   "id": "f80d8af5",
   "metadata": {},
   "outputs": [
    {
     "data": {
      "text/plain": [
       "5    9.0\n",
       "9    8.5\n",
       "2    8.0\n",
       "8    7.8\n",
       "4    7.2\n",
       "1    6.7\n",
       "7    6.5\n",
       "0    5.5\n",
       "3    4.5\n",
       "6    3.8\n",
       "dtype: float64"
      ]
     },
     "execution_count": 84,
     "metadata": {},
     "output_type": "execute_result"
    }
   ],
   "source": [
    "# Ordenar las notas de manera descendente.\n",
    "\n",
    "notas_ordenadas_descendente = notas.sort_values(ascending=False)\n",
    "\n",
    "notas_ordenadas_descendente"
   ]
  }
 ],
 "metadata": {
  "kernelspec": {
   "display_name": ".env",
   "language": "python",
   "name": "python3"
  },
  "language_info": {
   "codemirror_mode": {
    "name": "ipython",
    "version": 3
   },
   "file_extension": ".py",
   "mimetype": "text/x-python",
   "name": "python",
   "nbconvert_exporter": "python",
   "pygments_lexer": "ipython3",
   "version": "3.13.3"
  }
 },
 "nbformat": 4,
 "nbformat_minor": 5
}
