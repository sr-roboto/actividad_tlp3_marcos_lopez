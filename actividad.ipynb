{
 "cells": [
  {
   "cell_type": "markdown",
   "id": "498731c6",
   "metadata": {},
   "source": [
    "# Actividad - Trabajando con Series de Pandas.\n",
    "## Criterios de evaluación.\n",
    "\n",
    "* Se deben utilizar nombres de variables descriptivos y claros (Utilizar la nomeclatura correspondiente para los nombres de variables).\n",
    "* Comentarios claros y concisos que expliquen el propósito de cada sección del código.\n",
    "* Utilizar mensajes de commit **descriptivos**. (Puedes utilizar la extension CONVENTIONAL COMMIT de VS-CODE). \n",
    "* Entrega en tiempo y forma.\n",
    "* Todo el código desarrollado debe ser subido a un repositorio en GitHub (el nombre del repositorio de seguir la siguiente estructura: actividad_tlp3_nombre_apellido).\n",
    "* Para resolver las actividades se debe insertar casillas de codigo entre cada actividad del cuaderno de Jupyter\n",
    "\n",
    "### ¡Importante!\n",
    "**El incumplimiento de los criterios de evaluación restará puntos en la nota final del práctico!**"
   ]
  },
  {
   "cell_type": "code",
   "execution_count": 2,
   "id": "21872eec",
   "metadata": {},
   "outputs": [],
   "source": [
    "# Importación de pandas\n",
    "import pandas as pd\n",
    "\n",
    "# Importación de Series\n",
    "from pandas import Series"
   ]
  },
  {
   "cell_type": "markdown",
   "id": "b361a7b6",
   "metadata": {},
   "source": [
    "### **Actividad 1:** \n",
    "\n",
    "Crear Series desde diferentes estructuras.\n",
    "* Crea una Series con los números del 1 al 5\n",
    "* Crea una Series a partir de un diccionario con nombres de países como claves y sus capitales como valores."
   ]
  },
  {
   "cell_type": "code",
   "execution_count": 13,
   "id": "26009294",
   "metadata": {},
   "outputs": [
    {
     "data": {
      "text/plain": [
       "0    1\n",
       "1    2\n",
       "2    3\n",
       "3    4\n",
       "4    5\n",
       "dtype: int64"
      ]
     },
     "execution_count": 13,
     "metadata": {},
     "output_type": "execute_result"
    }
   ],
   "source": [
    "# Crear una series con los números del 1 al 5.\n",
    "\n",
    "valores = [1, 2, 3, 4, 5]\n",
    "\n",
    "# crear una serie\n",
    "primer_serie = Series(valores)\n",
    "\n",
    "primer_serie\n"
   ]
  },
  {
   "cell_type": "code",
   "execution_count": 11,
   "id": "c7c9bebe",
   "metadata": {},
   "outputs": [
    {
     "data": {
      "text/plain": [
       "Argentina             Buenos Aires\n",
       "Brasil                    Brasilia\n",
       "Chile                     Santiago\n",
       "Colombia                    Bogotá\n",
       "Perú                          Lima\n",
       "Venezuela                  Caracas\n",
       "Ecuador                      Quito\n",
       "Paraguay                  Asunción\n",
       "Uruguay                 Montevideo\n",
       "Bolivia                      Sucre\n",
       "Surinam                 Parabarimo\n",
       "Trinidad y Tobajo    Puerto España\n",
       "dtype: object"
      ]
     },
     "execution_count": 11,
     "metadata": {},
     "output_type": "execute_result"
    }
   ],
   "source": [
    "# Crea una Series a partir de un diccionario con nombres de países como claves y sus capitales como valores.\n",
    "\n",
    "# Crear un diccionario con países y sus capitales de América del Sur\n",
    "paises = {\n",
    "  'Argentina': 'Buenos Aires',\n",
    "  'Brasil': 'Brasilia',\n",
    "  'Chile': 'Santiago',\n",
    "  'Colombia': 'Bogotá',\n",
    "  'Perú': 'Lima',\n",
    "  'Venezuela': 'Caracas',\n",
    "  'Ecuador': 'Quito',\n",
    "  'Paraguay': 'Asunción',\n",
    "  'Uruguay': 'Montevideo',\n",
    "  'Bolivia': 'Sucre',\n",
    "  'Surinam': 'Parabarimo',\n",
    "  'Trinidad y Tobajo': 'Puerto España'\n",
    "}\n",
    "\n",
    "america_sur = Series(paises)\n",
    "america_sur"
   ]
  },
  {
   "cell_type": "markdown",
   "id": "0c239195",
   "metadata": {},
   "source": [
    "### **Actividad 2:** \n",
    "Acceso y selección de elementos.\n",
    "* Usa una Series con tareas (que haceres cotidianos) de una semana\n",
    "* Accede a diferentes elementos a elección.\n",
    "* Cambia los valores de los dias pares.\n"
   ]
  },
  {
   "cell_type": "code",
   "execution_count": 12,
   "id": "3611d25a",
   "metadata": {},
   "outputs": [
    {
     "data": {
      "text/plain": [
       "Lunes                  Lavar la ropa\n",
       "Martes               Hacer la compra\n",
       "Miércoles            Limpiar la casa\n",
       "Jueves       Estudiar para el examen\n",
       "Viernes              Hacer ejercicio\n",
       "Sábado               Cocinar la cena\n",
       "Domingo                Leer un libro\n",
       "dtype: object"
      ]
     },
     "execution_count": 12,
     "metadata": {},
     "output_type": "execute_result"
    }
   ],
   "source": [
    "# Usa una Series con tareas (que haceres cotidianos) de una semana.\n",
    "\n",
    "# Crear una lista de tareas\n",
    "tareas = [\n",
    "  'Lavar la ropa',\n",
    "  'Hacer la compra',\n",
    "  'Limpiar la casa',\n",
    "  'Estudiar para el examen',\n",
    "  'Hacer ejercicio',\n",
    "  'Cocinar la cena',\n",
    "  'Leer un libro'\n",
    "]\n",
    "\n",
    "dias = [\n",
    "  'Lunes',\n",
    "  'Martes',\n",
    "  'Miércoles',\n",
    "  'Jueves',\n",
    "  'Viernes',\n",
    "  'Sábado',\n",
    "  'Domingo'\n",
    "]\n",
    "\n",
    "lista_tareas = Series(tareas, index = dias)\n",
    "lista_tareas"
   ]
  },
  {
   "cell_type": "code",
   "execution_count": 7,
   "id": "cc55cdf0",
   "metadata": {},
   "outputs": [
    {
     "data": {
      "text/plain": [
       "'Lavar la ropa'"
      ]
     },
     "execution_count": 7,
     "metadata": {},
     "output_type": "execute_result"
    }
   ],
   "source": [
    "# Accede a diferentes elementos a elección.\n",
    "\n",
    "# Acceder al primer elemento de la serie\n",
    "tareas[0]  # Lavar la ropa\n",
    "\n"
   ]
  },
  {
   "cell_type": "markdown",
   "id": "70a24b97",
   "metadata": {},
   "source": [
    "### **Actividad 3:**\n",
    "Operaciones aritméticas. \n",
    "* Realiza las operaciones basicas con 2 series cuales quieran.\n",
    "* Eleva los valores de la primer serie a 3 potencias difetentes."
   ]
  },
  {
   "cell_type": "code",
   "execution_count": null,
   "id": "a9c8ebc7",
   "metadata": {},
   "outputs": [],
   "source": [
    "\n",
    "# todo:"
   ]
  },
  {
   "cell_type": "markdown",
   "id": "b8dac397",
   "metadata": {},
   "source": [
    "### **Actividad 4:** \n",
    "Filtrado con condiciones.\n",
    "* Crea una Series de edades de 10 personas.\n",
    "* Muestra solo a los mayores de 18.\n",
    "* Reemplaza a los menores por \"Menor de edad\"."
   ]
  },
  {
   "cell_type": "code",
   "execution_count": null,
   "id": "d04fd492",
   "metadata": {},
   "outputs": [],
   "source": [
    "\n",
    "# todo:"
   ]
  },
  {
   "cell_type": "markdown",
   "id": "8889d0f2",
   "metadata": {},
   "source": [
    "### Actividad 5:\n",
    "Estadísticas básicas.\n",
    "\n",
    "* Crea una Series con las notas de 10 estudiantes.\n",
    "* Calcula la media, mediana, desviación estándar y máximo.\n",
    "* Muestra cuántos estudiantes aprobaron si el mínimo para aprobar es 6.\n",
    "* Ordenar las notas de manera ascendente y descendente. "
   ]
  },
  {
   "cell_type": "code",
   "execution_count": null,
   "id": "bc0ec844",
   "metadata": {},
   "outputs": [],
   "source": [
    "\n",
    "# todo:\n"
   ]
  }
 ],
 "metadata": {
  "kernelspec": {
   "display_name": ".env",
   "language": "python",
   "name": "python3"
  },
  "language_info": {
   "codemirror_mode": {
    "name": "ipython",
    "version": 3
   },
   "file_extension": ".py",
   "mimetype": "text/x-python",
   "name": "python",
   "nbconvert_exporter": "python",
   "pygments_lexer": "ipython3",
   "version": "3.13.3"
  }
 },
 "nbformat": 4,
 "nbformat_minor": 5
}
